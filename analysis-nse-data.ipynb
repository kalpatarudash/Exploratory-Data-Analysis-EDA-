{
 "cells": [
  {
   "cell_type": "markdown",
   "metadata": {
    "_cell_guid": "26d3757c-4579-81ca-abaa-23c3259aecb9"
   },
   "source": [
    "Understand NSE data. ***Upvote if you find it useful***"
   ]
  },
  {
   "cell_type": "code",
   "execution_count": 1,
   "metadata": {
    "_cell_guid": "58082d0a-b829-dc50-e664-8a9a5d621ae4"
   },
   "outputs": [
    {
     "name": "stdout",
     "output_type": "stream",
     "text": [
      "banknifty.csv\n",
      "nifty50.csv\n",
      "\n"
     ]
    }
   ],
   "source": [
    "import numpy as np # linear algebra\n",
    "import pandas as pd # data processing, CSV file I/O (e.g. pd.read_csv)\n",
    "import matplotlib.pyplot as plt\n",
    "import seaborn as sns\n",
    "from subprocess import check_output\n",
    "print(check_output([\"ls\", \"../input\"]).decode(\"utf8\"))"
   ]
  },
  {
   "cell_type": "code",
   "execution_count": 2,
   "metadata": {
    "_cell_guid": "2299f6a4-9680-fbf5-ae76-c06cbd84928d"
   },
   "outputs": [
    {
     "data": {
      "text/html": [
       "<div>\n",
       "<table border=\"1\" class=\"dataframe\">\n",
       "  <thead>\n",
       "    <tr style=\"text-align: right;\">\n",
       "      <th></th>\n",
       "      <th>index</th>\n",
       "      <th>date</th>\n",
       "      <th>time</th>\n",
       "      <th>open</th>\n",
       "      <th>high</th>\n",
       "      <th>low</th>\n",
       "      <th>close</th>\n",
       "    </tr>\n",
       "  </thead>\n",
       "  <tbody>\n",
       "    <tr>\n",
       "      <th>0</th>\n",
       "      <td>NIFTY</td>\n",
       "      <td>2013-04-01</td>\n",
       "      <td>2017-05-15 09:16:00</td>\n",
       "      <td>5701.15</td>\n",
       "      <td>5704.65</td>\n",
       "      <td>5694.30</td>\n",
       "      <td>5697.00</td>\n",
       "    </tr>\n",
       "    <tr>\n",
       "      <th>1</th>\n",
       "      <td>NIFTY</td>\n",
       "      <td>2013-04-01</td>\n",
       "      <td>2017-05-15 09:17:00</td>\n",
       "      <td>5697.05</td>\n",
       "      <td>5698.35</td>\n",
       "      <td>5695.65</td>\n",
       "      <td>5697.50</td>\n",
       "    </tr>\n",
       "    <tr>\n",
       "      <th>2</th>\n",
       "      <td>NIFTY</td>\n",
       "      <td>2013-04-01</td>\n",
       "      <td>2017-05-15 09:18:00</td>\n",
       "      <td>5697.90</td>\n",
       "      <td>5697.90</td>\n",
       "      <td>5690.60</td>\n",
       "      <td>5692.15</td>\n",
       "    </tr>\n",
       "    <tr>\n",
       "      <th>3</th>\n",
       "      <td>NIFTY</td>\n",
       "      <td>2013-04-01</td>\n",
       "      <td>2017-05-15 09:19:00</td>\n",
       "      <td>5691.65</td>\n",
       "      <td>5694.70</td>\n",
       "      <td>5691.65</td>\n",
       "      <td>5693.90</td>\n",
       "    </tr>\n",
       "    <tr>\n",
       "      <th>4</th>\n",
       "      <td>NIFTY</td>\n",
       "      <td>2013-04-01</td>\n",
       "      <td>2017-05-15 09:20:00</td>\n",
       "      <td>5694.40</td>\n",
       "      <td>5695.05</td>\n",
       "      <td>5693.35</td>\n",
       "      <td>5694.55</td>\n",
       "    </tr>\n",
       "  </tbody>\n",
       "</table>\n",
       "</div>"
      ],
      "text/plain": [
       "   index       date                time     open     high      low    close\n",
       "0  NIFTY 2013-04-01 2017-05-15 09:16:00  5701.15  5704.65  5694.30  5697.00\n",
       "1  NIFTY 2013-04-01 2017-05-15 09:17:00  5697.05  5698.35  5695.65  5697.50\n",
       "2  NIFTY 2013-04-01 2017-05-15 09:18:00  5697.90  5697.90  5690.60  5692.15\n",
       "3  NIFTY 2013-04-01 2017-05-15 09:19:00  5691.65  5694.70  5691.65  5693.90\n",
       "4  NIFTY 2013-04-01 2017-05-15 09:20:00  5694.40  5695.05  5693.35  5694.55"
      ]
     },
     "execution_count": 2,
     "metadata": {},
     "output_type": "execute_result"
    }
   ],
   "source": [
    "banknifty = pd.read_csv(\"../input/banknifty.csv\",parse_dates=['date','time'])\n",
    "nifty50 = pd.read_csv(\"../input/nifty50.csv\",parse_dates=['date','time'])\n",
    "nifty50.head()"
   ]
  },
  {
   "cell_type": "code",
   "execution_count": 3,
   "metadata": {
    "_cell_guid": "c188b768-7647-b926-99a3-1da8bc504740"
   },
   "outputs": [
    {
     "data": {
      "text/html": [
       "<div>\n",
       "<table border=\"1\" class=\"dataframe\">\n",
       "  <thead>\n",
       "    <tr style=\"text-align: right;\">\n",
       "      <th></th>\n",
       "      <th>index</th>\n",
       "      <th>date</th>\n",
       "      <th>time</th>\n",
       "      <th>open</th>\n",
       "      <th>high</th>\n",
       "      <th>low</th>\n",
       "      <th>close</th>\n",
       "    </tr>\n",
       "  </thead>\n",
       "  <tbody>\n",
       "    <tr>\n",
       "      <th>0</th>\n",
       "      <td>BANKNIFTY</td>\n",
       "      <td>2012-12-03</td>\n",
       "      <td>2017-05-15 09:16:00</td>\n",
       "      <td>12125.70</td>\n",
       "      <td>12161.70</td>\n",
       "      <td>12125.70</td>\n",
       "      <td>12160.95</td>\n",
       "    </tr>\n",
       "    <tr>\n",
       "      <th>1</th>\n",
       "      <td>BANKNIFTY</td>\n",
       "      <td>2012-12-03</td>\n",
       "      <td>2017-05-15 09:17:00</td>\n",
       "      <td>12161.75</td>\n",
       "      <td>12164.80</td>\n",
       "      <td>12130.40</td>\n",
       "      <td>12130.40</td>\n",
       "    </tr>\n",
       "    <tr>\n",
       "      <th>2</th>\n",
       "      <td>BANKNIFTY</td>\n",
       "      <td>2012-12-03</td>\n",
       "      <td>2017-05-15 09:18:00</td>\n",
       "      <td>12126.85</td>\n",
       "      <td>12156.10</td>\n",
       "      <td>12126.85</td>\n",
       "      <td>12156.10</td>\n",
       "    </tr>\n",
       "    <tr>\n",
       "      <th>3</th>\n",
       "      <td>BANKNIFTY</td>\n",
       "      <td>2012-12-03</td>\n",
       "      <td>2017-05-15 09:19:00</td>\n",
       "      <td>12157.25</td>\n",
       "      <td>12164.75</td>\n",
       "      <td>12151.60</td>\n",
       "      <td>12164.20</td>\n",
       "    </tr>\n",
       "    <tr>\n",
       "      <th>4</th>\n",
       "      <td>BANKNIFTY</td>\n",
       "      <td>2012-12-03</td>\n",
       "      <td>2017-05-15 09:20:00</td>\n",
       "      <td>12162.80</td>\n",
       "      <td>12162.80</td>\n",
       "      <td>12148.20</td>\n",
       "      <td>12151.15</td>\n",
       "    </tr>\n",
       "  </tbody>\n",
       "</table>\n",
       "</div>"
      ],
      "text/plain": [
       "       index       date                time      open      high       low  \\\n",
       "0  BANKNIFTY 2012-12-03 2017-05-15 09:16:00  12125.70  12161.70  12125.70   \n",
       "1  BANKNIFTY 2012-12-03 2017-05-15 09:17:00  12161.75  12164.80  12130.40   \n",
       "2  BANKNIFTY 2012-12-03 2017-05-15 09:18:00  12126.85  12156.10  12126.85   \n",
       "3  BANKNIFTY 2012-12-03 2017-05-15 09:19:00  12157.25  12164.75  12151.60   \n",
       "4  BANKNIFTY 2012-12-03 2017-05-15 09:20:00  12162.80  12162.80  12148.20   \n",
       "\n",
       "      close  \n",
       "0  12160.95  \n",
       "1  12130.40  \n",
       "2  12156.10  \n",
       "3  12164.20  \n",
       "4  12151.15  "
      ]
     },
     "execution_count": 3,
     "metadata": {},
     "output_type": "execute_result"
    }
   ],
   "source": [
    "banknifty.head()"
   ]
  },
  {
   "cell_type": "code",
   "execution_count": 4,
   "metadata": {
    "_cell_guid": "b886e768-7f13-8240-ec50-ab622477f3cb"
   },
   "outputs": [],
   "source": [
    "banknifty = banknifty.drop(['index'],axis=1)\n",
    "nifty50 = nifty50.drop(['index'],axis=1)"
   ]
  },
  {
   "cell_type": "code",
   "execution_count": 5,
   "metadata": {
    "_cell_guid": "97b33c5f-adfd-9c1e-4156-a9e79ce6f739"
   },
   "outputs": [
    {
     "data": {
      "text/html": [
       "<div>\n",
       "<table border=\"1\" class=\"dataframe\">\n",
       "  <thead>\n",
       "    <tr style=\"text-align: right;\">\n",
       "      <th></th>\n",
       "      <th>open</th>\n",
       "      <th>high</th>\n",
       "      <th>low</th>\n",
       "      <th>close</th>\n",
       "    </tr>\n",
       "  </thead>\n",
       "  <tbody>\n",
       "    <tr>\n",
       "      <th>count</th>\n",
       "      <td>352920.000000</td>\n",
       "      <td>352920.000000</td>\n",
       "      <td>352920.000000</td>\n",
       "      <td>352920.000000</td>\n",
       "    </tr>\n",
       "    <tr>\n",
       "      <th>mean</th>\n",
       "      <td>7374.515649</td>\n",
       "      <td>7376.077510</td>\n",
       "      <td>7372.936147</td>\n",
       "      <td>7374.498883</td>\n",
       "    </tr>\n",
       "    <tr>\n",
       "      <th>std</th>\n",
       "      <td>1070.893139</td>\n",
       "      <td>1071.032665</td>\n",
       "      <td>1070.756739</td>\n",
       "      <td>1070.885970</td>\n",
       "    </tr>\n",
       "    <tr>\n",
       "      <th>min</th>\n",
       "      <td>5126.150000</td>\n",
       "      <td>5127.250000</td>\n",
       "      <td>5118.850000</td>\n",
       "      <td>5126.300000</td>\n",
       "    </tr>\n",
       "    <tr>\n",
       "      <th>25%</th>\n",
       "      <td>6167.650000</td>\n",
       "      <td>6168.900000</td>\n",
       "      <td>6166.550000</td>\n",
       "      <td>6167.700000</td>\n",
       "    </tr>\n",
       "    <tr>\n",
       "      <th>50%</th>\n",
       "      <td>7738.800000</td>\n",
       "      <td>7740.150000</td>\n",
       "      <td>7737.450000</td>\n",
       "      <td>7738.800000</td>\n",
       "    </tr>\n",
       "    <tr>\n",
       "      <th>75%</th>\n",
       "      <td>8298.762500</td>\n",
       "      <td>8300.900000</td>\n",
       "      <td>8297.050000</td>\n",
       "      <td>8298.750000</td>\n",
       "    </tr>\n",
       "    <tr>\n",
       "      <th>max</th>\n",
       "      <td>9115.400000</td>\n",
       "      <td>9119.200000</td>\n",
       "      <td>9105.650000</td>\n",
       "      <td>9106.500000</td>\n",
       "    </tr>\n",
       "  </tbody>\n",
       "</table>\n",
       "</div>"
      ],
      "text/plain": [
       "                open           high            low          close\n",
       "count  352920.000000  352920.000000  352920.000000  352920.000000\n",
       "mean     7374.515649    7376.077510    7372.936147    7374.498883\n",
       "std      1070.893139    1071.032665    1070.756739    1070.885970\n",
       "min      5126.150000    5127.250000    5118.850000    5126.300000\n",
       "25%      6167.650000    6168.900000    6166.550000    6167.700000\n",
       "50%      7738.800000    7740.150000    7737.450000    7738.800000\n",
       "75%      8298.762500    8300.900000    8297.050000    8298.750000\n",
       "max      9115.400000    9119.200000    9105.650000    9106.500000"
      ]
     },
     "execution_count": 5,
     "metadata": {},
     "output_type": "execute_result"
    }
   ],
   "source": [
    "nifty50.describe()"
   ]
  },
  {
   "cell_type": "code",
   "execution_count": 6,
   "metadata": {
    "_cell_guid": "54bda9c2-925c-b517-9053-477168dd7e3c"
   },
   "outputs": [
    {
     "data": {
      "text/html": [
       "<div>\n",
       "<table border=\"1\" class=\"dataframe\">\n",
       "  <thead>\n",
       "    <tr style=\"text-align: right;\">\n",
       "      <th></th>\n",
       "      <th>date</th>\n",
       "      <th>time</th>\n",
       "      <th>open</th>\n",
       "      <th>high</th>\n",
       "      <th>low</th>\n",
       "      <th>close</th>\n",
       "    </tr>\n",
       "  </thead>\n",
       "  <tbody>\n",
       "    <tr>\n",
       "      <th>240137</th>\n",
       "      <td>2015-03-04</td>\n",
       "      <td>2017-05-15 09:16:00</td>\n",
       "      <td>9115.4</td>\n",
       "      <td>9119.2</td>\n",
       "      <td>9105.65</td>\n",
       "      <td>9106.5</td>\n",
       "    </tr>\n",
       "  </tbody>\n",
       "</table>\n",
       "</div>"
      ],
      "text/plain": [
       "             date                time    open    high      low   close\n",
       "240137 2015-03-04 2017-05-15 09:16:00  9115.4  9119.2  9105.65  9106.5"
      ]
     },
     "execution_count": 6,
     "metadata": {},
     "output_type": "execute_result"
    }
   ],
   "source": [
    "nifty50.loc[nifty50['high']==9119.2]"
   ]
  },
  {
   "cell_type": "code",
   "execution_count": 7,
   "metadata": {
    "_cell_guid": "8d2d1d0b-8750-0907-87a0-4f5c7eaf2d71"
   },
   "outputs": [
    {
     "data": {
      "text/html": [
       "<div>\n",
       "<table border=\"1\" class=\"dataframe\">\n",
       "  <thead>\n",
       "    <tr style=\"text-align: right;\">\n",
       "      <th></th>\n",
       "      <th>date</th>\n",
       "      <th>time</th>\n",
       "      <th>open</th>\n",
       "      <th>high</th>\n",
       "      <th>low</th>\n",
       "      <th>close</th>\n",
       "    </tr>\n",
       "  </thead>\n",
       "  <tbody>\n",
       "    <tr>\n",
       "      <th>13949</th>\n",
       "      <td>2013-08-28</td>\n",
       "      <td>2017-05-15 10:40:00</td>\n",
       "      <td>5127.25</td>\n",
       "      <td>5127.25</td>\n",
       "      <td>5122.7</td>\n",
       "      <td>5126.3</td>\n",
       "    </tr>\n",
       "  </tbody>\n",
       "</table>\n",
       "</div>"
      ],
      "text/plain": [
       "            date                time     open     high     low   close\n",
       "13949 2013-08-28 2017-05-15 10:40:00  5127.25  5127.25  5122.7  5126.3"
      ]
     },
     "execution_count": 7,
     "metadata": {},
     "output_type": "execute_result"
    }
   ],
   "source": [
    "nifty50.loc[nifty50['high']==5127.25]"
   ]
  },
  {
   "cell_type": "code",
   "execution_count": 8,
   "metadata": {
    "_cell_guid": "ec58aecb-3585-1dfb-6687-99352c6905d7"
   },
   "outputs": [
    {
     "data": {
      "text/html": [
       "<div>\n",
       "<table border=\"1\" class=\"dataframe\">\n",
       "  <thead>\n",
       "    <tr style=\"text-align: right;\">\n",
       "      <th></th>\n",
       "      <th>open</th>\n",
       "      <th>high</th>\n",
       "      <th>low</th>\n",
       "      <th>close</th>\n",
       "    </tr>\n",
       "    <tr>\n",
       "      <th>date</th>\n",
       "      <th></th>\n",
       "      <th></th>\n",
       "      <th></th>\n",
       "      <th></th>\n",
       "    </tr>\n",
       "  </thead>\n",
       "  <tbody>\n",
       "    <tr>\n",
       "      <th>2013-01-01</th>\n",
       "      <td>5950.678267</td>\n",
       "      <td>5951.491067</td>\n",
       "      <td>5949.986667</td>\n",
       "      <td>5950.689733</td>\n",
       "    </tr>\n",
       "    <tr>\n",
       "      <th>2013-01-02</th>\n",
       "      <td>5995.653733</td>\n",
       "      <td>5996.420267</td>\n",
       "      <td>5994.909200</td>\n",
       "      <td>5995.663733</td>\n",
       "    </tr>\n",
       "    <tr>\n",
       "      <th>2013-01-03</th>\n",
       "      <td>6003.101600</td>\n",
       "      <td>6003.903733</td>\n",
       "      <td>6002.381333</td>\n",
       "      <td>6003.124267</td>\n",
       "    </tr>\n",
       "    <tr>\n",
       "      <th>2013-01-04</th>\n",
       "      <td>5994.905733</td>\n",
       "      <td>5995.648667</td>\n",
       "      <td>5994.187467</td>\n",
       "      <td>5994.906800</td>\n",
       "    </tr>\n",
       "    <tr>\n",
       "      <th>2013-01-07</th>\n",
       "      <td>6011.653067</td>\n",
       "      <td>6012.265200</td>\n",
       "      <td>6010.813600</td>\n",
       "      <td>6011.506400</td>\n",
       "    </tr>\n",
       "  </tbody>\n",
       "</table>\n",
       "</div>"
      ],
      "text/plain": [
       "                   open         high          low        close\n",
       "date                                                          \n",
       "2013-01-01  5950.678267  5951.491067  5949.986667  5950.689733\n",
       "2013-01-02  5995.653733  5996.420267  5994.909200  5995.663733\n",
       "2013-01-03  6003.101600  6003.903733  6002.381333  6003.124267\n",
       "2013-01-04  5994.905733  5995.648667  5994.187467  5994.906800\n",
       "2013-01-07  6011.653067  6012.265200  6010.813600  6011.506400"
      ]
     },
     "execution_count": 8,
     "metadata": {},
     "output_type": "execute_result"
    }
   ],
   "source": [
    "nifty50_mean = nifty50.groupby('date').mean()\n",
    "nifty50_mean.head()"
   ]
  },
  {
   "cell_type": "code",
   "execution_count": 9,
   "metadata": {
    "_cell_guid": "7728742c-70a6-7eb6-5762-925f642edb34"
   },
   "outputs": [
    {
     "data": {
      "text/plain": [
       "<matplotlib.axes._subplots.AxesSubplot at 0x7f9648d75cf8>"
      ]
     },
     "execution_count": 9,
     "metadata": {},
     "output_type": "execute_result"
    },
    {
     "data": {
      "image/png": "[encoded data removed]",
      "text/plain": [
       "<matplotlib.figure.Figure at 0x7f9648d68898>"
      ]
     },
     "metadata": {},
     "output_type": "display_data"
    }
   ],
   "source": [
    "nifty50_mean.plot(figsize=(12,8))"
   ]
  },
  {
   "cell_type": "code",
   "execution_count": 10,
   "metadata": {
    "_cell_guid": "22786826-f1bf-3b7e-1f72-f351987a7687"
   },
   "outputs": [
    {
     "data": {
      "text/html": [
       "<div>\n",
       "<table border=\"1\" class=\"dataframe\">\n",
       "  <thead>\n",
       "    <tr style=\"text-align: right;\">\n",
       "      <th></th>\n",
       "      <th>open</th>\n",
       "      <th>high</th>\n",
       "      <th>low</th>\n",
       "      <th>close</th>\n",
       "    </tr>\n",
       "  </thead>\n",
       "  <tbody>\n",
       "    <tr>\n",
       "      <th>count</th>\n",
       "      <td>367575.000000</td>\n",
       "      <td>367575.000000</td>\n",
       "      <td>367575.000000</td>\n",
       "      <td>367575.000000</td>\n",
       "    </tr>\n",
       "    <tr>\n",
       "      <th>mean</th>\n",
       "      <td>15078.023296</td>\n",
       "      <td>15082.498465</td>\n",
       "      <td>15073.480983</td>\n",
       "      <td>15077.993028</td>\n",
       "    </tr>\n",
       "    <tr>\n",
       "      <th>std</th>\n",
       "      <td>3184.438089</td>\n",
       "      <td>3185.213591</td>\n",
       "      <td>3183.628315</td>\n",
       "      <td>3184.411825</td>\n",
       "    </tr>\n",
       "    <tr>\n",
       "      <th>min</th>\n",
       "      <td>1405.050000</td>\n",
       "      <td>1407.050000</td>\n",
       "      <td>1404.600000</td>\n",
       "      <td>1405.200000</td>\n",
       "    </tr>\n",
       "    <tr>\n",
       "      <th>25%</th>\n",
       "      <td>12092.200000</td>\n",
       "      <td>12095.000000</td>\n",
       "      <td>12089.150000</td>\n",
       "      <td>12092.175000</td>\n",
       "    </tr>\n",
       "    <tr>\n",
       "      <th>50%</th>\n",
       "      <td>15526.100000</td>\n",
       "      <td>15531.200000</td>\n",
       "      <td>15521.400000</td>\n",
       "      <td>15525.950000</td>\n",
       "    </tr>\n",
       "    <tr>\n",
       "      <th>75%</th>\n",
       "      <td>17956.050000</td>\n",
       "      <td>17960.550000</td>\n",
       "      <td>17951.100000</td>\n",
       "      <td>17955.800000</td>\n",
       "    </tr>\n",
       "    <tr>\n",
       "      <th>max</th>\n",
       "      <td>20903.950000</td>\n",
       "      <td>20907.550000</td>\n",
       "      <td>20899.250000</td>\n",
       "      <td>20907.550000</td>\n",
       "    </tr>\n",
       "  </tbody>\n",
       "</table>\n",
       "</div>"
      ],
      "text/plain": [
       "                open           high            low          close\n",
       "count  367575.000000  367575.000000  367575.000000  367575.000000\n",
       "mean    15078.023296   15082.498465   15073.480983   15077.993028\n",
       "std      3184.438089    3185.213591    3183.628315    3184.411825\n",
       "min      1405.050000    1407.050000    1404.600000    1405.200000\n",
       "25%     12092.200000   12095.000000   12089.150000   12092.175000\n",
       "50%     15526.100000   15531.200000   15521.400000   15525.950000\n",
       "75%     17956.050000   17960.550000   17951.100000   17955.800000\n",
       "max     20903.950000   20907.550000   20899.250000   20907.550000"
      ]
     },
     "execution_count": 10,
     "metadata": {},
     "output_type": "execute_result"
    }
   ],
   "source": [
    "banknifty.describe()"
   ]
  },
  {
   "cell_type": "code",
   "execution_count": 11,
   "metadata": {
    "_cell_guid": "5ce342a1-9275-85d7-6f82-0c9371726544"
   },
   "outputs": [
    {
     "data": {
      "text/html": [
       "<div>\n",
       "<table border=\"1\" class=\"dataframe\">\n",
       "  <thead>\n",
       "    <tr style=\"text-align: right;\">\n",
       "      <th></th>\n",
       "      <th>date</th>\n",
       "      <th>time</th>\n",
       "      <th>open</th>\n",
       "      <th>high</th>\n",
       "      <th>low</th>\n",
       "      <th>close</th>\n",
       "    </tr>\n",
       "  </thead>\n",
       "  <tbody>\n",
       "    <tr>\n",
       "      <th>236193</th>\n",
       "      <td>2015-01-28</td>\n",
       "      <td>2017-05-15 12:35:00</td>\n",
       "      <td>20902.15</td>\n",
       "      <td>20907.55</td>\n",
       "      <td>20894.35</td>\n",
       "      <td>20907.55</td>\n",
       "    </tr>\n",
       "  </tbody>\n",
       "</table>\n",
       "</div>"
      ],
      "text/plain": [
       "             date                time      open      high       low     close\n",
       "236193 2015-01-28 2017-05-15 12:35:00  20902.15  20907.55  20894.35  20907.55"
      ]
     },
     "execution_count": 11,
     "metadata": {},
     "output_type": "execute_result"
    }
   ],
   "source": [
    "banknifty.loc[banknifty['high']==20907.550]"
   ]
  },
  {
   "cell_type": "code",
   "execution_count": 12,
   "metadata": {
    "_cell_guid": "89a6752a-c26c-892c-bb94-936f831858f2"
   },
   "outputs": [
    {
     "data": {
      "text/html": [
       "<div>\n",
       "<table border=\"1\" class=\"dataframe\">\n",
       "  <thead>\n",
       "    <tr style=\"text-align: right;\">\n",
       "      <th></th>\n",
       "      <th>date</th>\n",
       "      <th>time</th>\n",
       "      <th>open</th>\n",
       "      <th>high</th>\n",
       "      <th>low</th>\n",
       "      <th>close</th>\n",
       "    </tr>\n",
       "  </thead>\n",
       "  <tbody>\n",
       "    <tr>\n",
       "      <th>252479</th>\n",
       "      <td>2015-06-24</td>\n",
       "      <td>2017-05-15 15:19:00</td>\n",
       "      <td>1405.05</td>\n",
       "      <td>1407.05</td>\n",
       "      <td>1404.6</td>\n",
       "      <td>1406.25</td>\n",
       "    </tr>\n",
       "  </tbody>\n",
       "</table>\n",
       "</div>"
      ],
      "text/plain": [
       "             date                time     open     high     low    close\n",
       "252479 2015-06-24 2017-05-15 15:19:00  1405.05  1407.05  1404.6  1406.25"
      ]
     },
     "execution_count": 12,
     "metadata": {},
     "output_type": "execute_result"
    }
   ],
   "source": [
    "banknifty.loc[banknifty['high']==1407.050]"
   ]
  },
  {
   "cell_type": "code",
   "execution_count": 13,
   "metadata": {
    "_cell_guid": "b5239a29-b4d5-55ba-155d-8872316fea86"
   },
   "outputs": [
    {
     "data": {
      "text/html": [
       "<div>\n",
       "<table border=\"1\" class=\"dataframe\">\n",
       "  <thead>\n",
       "    <tr style=\"text-align: right;\">\n",
       "      <th></th>\n",
       "      <th>open</th>\n",
       "      <th>high</th>\n",
       "      <th>low</th>\n",
       "      <th>close</th>\n",
       "    </tr>\n",
       "    <tr>\n",
       "      <th>date</th>\n",
       "      <th></th>\n",
       "      <th></th>\n",
       "      <th></th>\n",
       "      <th></th>\n",
       "    </tr>\n",
       "  </thead>\n",
       "  <tbody>\n",
       "    <tr>\n",
       "      <th>2012-11-01</th>\n",
       "      <td>11305.950533</td>\n",
       "      <td>11308.328400</td>\n",
       "      <td>11303.584000</td>\n",
       "      <td>11306.027600</td>\n",
       "    </tr>\n",
       "    <tr>\n",
       "      <th>2012-11-02</th>\n",
       "      <td>11429.929733</td>\n",
       "      <td>11432.193733</td>\n",
       "      <td>11427.817200</td>\n",
       "      <td>11429.955600</td>\n",
       "    </tr>\n",
       "    <tr>\n",
       "      <th>2012-11-05</th>\n",
       "      <td>11451.321867</td>\n",
       "      <td>11453.444667</td>\n",
       "      <td>11449.234667</td>\n",
       "      <td>11451.354533</td>\n",
       "    </tr>\n",
       "    <tr>\n",
       "      <th>2012-11-06</th>\n",
       "      <td>11494.561733</td>\n",
       "      <td>11496.849600</td>\n",
       "      <td>11492.694133</td>\n",
       "      <td>11494.892667</td>\n",
       "    </tr>\n",
       "    <tr>\n",
       "      <th>2012-11-07</th>\n",
       "      <td>11666.770800</td>\n",
       "      <td>11669.293467</td>\n",
       "      <td>11664.445067</td>\n",
       "      <td>11666.936533</td>\n",
       "    </tr>\n",
       "  </tbody>\n",
       "</table>\n",
       "</div>"
      ],
      "text/plain": [
       "                    open          high           low         close\n",
       "date                                                              \n",
       "2012-11-01  11305.950533  11308.328400  11303.584000  11306.027600\n",
       "2012-11-02  11429.929733  11432.193733  11427.817200  11429.955600\n",
       "2012-11-05  11451.321867  11453.444667  11449.234667  11451.354533\n",
       "2012-11-06  11494.561733  11496.849600  11492.694133  11494.892667\n",
       "2012-11-07  11666.770800  11669.293467  11664.445067  11666.936533"
      ]
     },
     "execution_count": 13,
     "metadata": {},
     "output_type": "execute_result"
    }
   ],
   "source": [
    "banknifty_mean = banknifty.groupby('date').mean()\n",
    "banknifty_mean.head()"
   ]
  },
  {
   "cell_type": "code",
   "execution_count": 14,
   "metadata": {
    "_cell_guid": "7f0677b3-d5fb-8fe2-e8d4-a8555542b17c"
   },
   "outputs": [
    {
     "data": {
      "text/plain": [
       "<matplotlib.axes._subplots.AxesSubplot at 0x7f9648d68160>"
      ]
     },
     "execution_count": 14,
     "metadata": {},
     "output_type": "execute_result"
    },
    {
     "data": {
      "image/png": "[encoded data removed]",
      "text/plain": [
       "<matplotlib.figure.Figure at 0x7f96486b0be0>"
      ]
     },
     "metadata": {},
     "output_type": "display_data"
    }
   ],
   "source": [
    "banknifty_mean.plot(figsize=(12,8))"
   ]
  },
  {
   "cell_type": "markdown",
   "metadata": {
    "_cell_guid": "727dbe8b-eb29-aacb-06c3-fe8cd17003f6"
   },
   "source": [
    "There is 2 huge **drop** in year 2015. We will later on try to find the details of incident."
   ]
  },
  {
   "cell_type": "code",
   "execution_count": 15,
   "metadata": {
    "_cell_guid": "29bda076-b30a-6eca-d699-78a87d0a289b"
   },
   "outputs": [
    {
     "data": {
      "text/plain": [
       "137.55000000000018"
      ]
     },
     "execution_count": 15,
     "metadata": {},
     "output_type": "execute_result"
    }
   ],
   "source": [
    "maximum_drop_nifty50 =  max(nifty50['open'] - nifty50['low'])\n",
    "maximum_drop_nifty50"
   ]
  },
  {
   "cell_type": "code",
   "execution_count": 16,
   "metadata": {
    "_cell_guid": "0140ba7d-0f47-4db1-42a8-b8a5578ff078"
   },
   "outputs": [
    {
     "data": {
      "text/html": [
       "<div>\n",
       "<table border=\"1\" class=\"dataframe\">\n",
       "  <thead>\n",
       "    <tr style=\"text-align: right;\">\n",
       "      <th></th>\n",
       "      <th>date</th>\n",
       "      <th>time</th>\n",
       "      <th>open</th>\n",
       "      <th>high</th>\n",
       "      <th>low</th>\n",
       "      <th>close</th>\n",
       "    </tr>\n",
       "  </thead>\n",
       "  <tbody>\n",
       "    <tr>\n",
       "      <th>162096</th>\n",
       "      <td>2014-05-30</td>\n",
       "      <td>2017-05-15 09:16:00</td>\n",
       "      <td>7256.0</td>\n",
       "      <td>7258.15</td>\n",
       "      <td>7118.45</td>\n",
       "      <td>7254.55</td>\n",
       "    </tr>\n",
       "  </tbody>\n",
       "</table>\n",
       "</div>"
      ],
      "text/plain": [
       "             date                time    open     high      low    close\n",
       "162096 2014-05-30 2017-05-15 09:16:00  7256.0  7258.15  7118.45  7254.55"
      ]
     },
     "execution_count": 16,
     "metadata": {},
     "output_type": "execute_result"
    }
   ],
   "source": [
    "nifty50.loc[(nifty50['open'] - nifty50['low']) == maximum_drop_nifty50]"
   ]
  },
  {
   "cell_type": "markdown",
   "metadata": {
    "_cell_guid": "d71a58ec-7038-4e0c-2f91-eb77e3a99200"
   },
   "source": [
    "The day nifty50 **dipped** huge is 2014-05-30\t"
   ]
  },
  {
   "cell_type": "code",
   "execution_count": 17,
   "metadata": {
    "_cell_guid": "8b683cfb-8989-d67e-4367-2d1f9b320fe0"
   },
   "outputs": [
    {
     "data": {
      "text/html": [
       "<div>\n",
       "<table border=\"1\" class=\"dataframe\">\n",
       "  <thead>\n",
       "    <tr style=\"text-align: right;\">\n",
       "      <th></th>\n",
       "      <th>date</th>\n",
       "      <th>time</th>\n",
       "      <th>open</th>\n",
       "      <th>high</th>\n",
       "      <th>low</th>\n",
       "      <th>close</th>\n",
       "    </tr>\n",
       "  </thead>\n",
       "  <tbody>\n",
       "    <tr>\n",
       "      <th>158346</th>\n",
       "      <td>2014-05-16</td>\n",
       "      <td>2017-05-15 09:16:00</td>\n",
       "      <td>7273.55</td>\n",
       "      <td>7433.2</td>\n",
       "      <td>7264.4</td>\n",
       "      <td>7417.65</td>\n",
       "    </tr>\n",
       "  </tbody>\n",
       "</table>\n",
       "</div>"
      ],
      "text/plain": [
       "             date                time     open    high     low    close\n",
       "158346 2014-05-16 2017-05-15 09:16:00  7273.55  7433.2  7264.4  7417.65"
      ]
     },
     "execution_count": 17,
     "metadata": {},
     "output_type": "execute_result"
    }
   ],
   "source": [
    "maximum_up_nifty50 =  max(nifty50['high'] - nifty50['open'])\n",
    "nifty50.loc[(nifty50['high'] - nifty50['open']) == maximum_up_nifty50]"
   ]
  },
  {
   "cell_type": "markdown",
   "metadata": {
    "_cell_guid": "df80eea0-d966-e9d3-217d-4d85956a9c80"
   },
   "source": [
    "The day nifty50 **raised** huge is 2014-05-16"
   ]
  },
  {
   "cell_type": "code",
   "execution_count": 18,
   "metadata": {
    "_cell_guid": "fd76408c-7e95-a24e-53f5-ca9f9af2d78f"
   },
   "outputs": [
    {
     "data": {
      "text/plain": [
       "282.39999999999964"
      ]
     },
     "execution_count": 18,
     "metadata": {},
     "output_type": "execute_result"
    }
   ],
   "source": [
    "maximum_drop_banknifty =  max(banknifty['open'] - banknifty['low'])\n",
    "maximum_drop_banknifty"
   ]
  },
  {
   "cell_type": "code",
   "execution_count": 19,
   "metadata": {
    "_cell_guid": "832da1bc-ac56-b01d-d7e7-b1bb07bbb18e"
   },
   "outputs": [
    {
     "data": {
      "text/html": [
       "<div>\n",
       "<table border=\"1\" class=\"dataframe\">\n",
       "  <thead>\n",
       "    <tr style=\"text-align: right;\">\n",
       "      <th></th>\n",
       "      <th>date</th>\n",
       "      <th>time</th>\n",
       "      <th>open</th>\n",
       "      <th>high</th>\n",
       "      <th>low</th>\n",
       "      <th>close</th>\n",
       "    </tr>\n",
       "  </thead>\n",
       "  <tbody>\n",
       "    <tr>\n",
       "      <th>105107</th>\n",
       "      <td>2013-09-20</td>\n",
       "      <td>2017-05-15 11:02:00</td>\n",
       "      <td>11132.8</td>\n",
       "      <td>11132.8</td>\n",
       "      <td>10850.4</td>\n",
       "      <td>10850.4</td>\n",
       "    </tr>\n",
       "  </tbody>\n",
       "</table>\n",
       "</div>"
      ],
      "text/plain": [
       "             date                time     open     high      low    close\n",
       "105107 2013-09-20 2017-05-15 11:02:00  11132.8  11132.8  10850.4  10850.4"
      ]
     },
     "execution_count": 19,
     "metadata": {},
     "output_type": "execute_result"
    }
   ],
   "source": [
    "banknifty.loc[(banknifty['open'] - banknifty['low']) == maximum_drop_banknifty]"
   ]
  },
  {
   "cell_type": "markdown",
   "metadata": {
    "_cell_guid": "091f6b63-b777-cb7b-79d9-09fb2c5c4bca"
   },
   "source": [
    "The day banknifty **dipped** huge is 2013-09-20"
   ]
  },
  {
   "cell_type": "code",
   "execution_count": 20,
   "metadata": {
    "_cell_guid": "804c1bb4-6d60-28d9-ac0c-67a29ff0399b"
   },
   "outputs": [
    {
     "data": {
      "text/html": [
       "<div>\n",
       "<table border=\"1\" class=\"dataframe\">\n",
       "  <thead>\n",
       "    <tr style=\"text-align: right;\">\n",
       "      <th></th>\n",
       "      <th>date</th>\n",
       "      <th>time</th>\n",
       "      <th>open</th>\n",
       "      <th>high</th>\n",
       "      <th>low</th>\n",
       "      <th>close</th>\n",
       "    </tr>\n",
       "  </thead>\n",
       "  <tbody>\n",
       "    <tr>\n",
       "      <th>318825</th>\n",
       "      <td>2016-01-20</td>\n",
       "      <td>2017-05-15 09:16:00</td>\n",
       "      <td>15049.35</td>\n",
       "      <td>15533.45</td>\n",
       "      <td>14978.1</td>\n",
       "      <td>14980.9</td>\n",
       "    </tr>\n",
       "  </tbody>\n",
       "</table>\n",
       "</div>"
      ],
      "text/plain": [
       "             date                time      open      high      low    close\n",
       "318825 2016-01-20 2017-05-15 09:16:00  15049.35  15533.45  14978.1  14980.9"
      ]
     },
     "execution_count": 20,
     "metadata": {},
     "output_type": "execute_result"
    }
   ],
   "source": [
    "maximum_up_banknifty =  max(banknifty['high'] - banknifty['open'])\n",
    "banknifty.loc[(banknifty['high'] - banknifty['open']) == maximum_up_banknifty]"
   ]
  },
  {
   "cell_type": "markdown",
   "metadata": {
    "_cell_guid": "f822bb62-85ff-6352-a335-984fad12c3b2"
   },
   "source": [
    "The day banknifty **raised** huge is 2016-01-20"
   ]
  },
  {
   "cell_type": "code",
   "execution_count": 21,
   "metadata": {
    "_cell_guid": "c9e0e56e-a6c0-f7d3-7cae-49da0daa1dea"
   },
   "outputs": [
    {
     "data": {
      "text/plain": [
       "<matplotlib.axes._subplots.AxesSubplot at 0x7f963c6b8c18>"
      ]
     },
     "execution_count": 21,
     "metadata": {},
     "output_type": "execute_result"
    },
    {
     "data": {
      "image/png": "[encoded data removed]",
      "text/plain": [
       "<matplotlib.figure.Figure at 0x7f963c6cec50>"
      ]
     },
     "metadata": {},
     "output_type": "display_data"
    }
   ],
   "source": [
    "sns.heatmap(banknifty.corr(),annot=True)"
   ]
  },
  {
   "cell_type": "code",
   "execution_count": 22,
   "metadata": {
    "_cell_guid": "cd1047d7-f31c-9a00-19e8-1f6471416298"
   },
   "outputs": [
    {
     "data": {
      "text/plain": [
       "<matplotlib.axes._subplots.AxesSubplot at 0x7f963c57c630>"
      ]
     },
     "execution_count": 22,
     "metadata": {},
     "output_type": "execute_result"
    },
    {
     "data": {
      "image/png": "[encoded data removed]",
      "text/plain": [
       "<matplotlib.figure.Figure at 0x7f9648781400>"
      ]
     },
     "metadata": {},
     "output_type": "display_data"
    }
   ],
   "source": [
    "nifty50['high'].plot('kde')"
   ]
  },
  {
   "cell_type": "code",
   "execution_count": 23,
   "metadata": {
    "_cell_guid": "acf1fb86-e6e4-2a31-339f-dacd4f796e2f"
   },
   "outputs": [
    {
     "data": {
      "text/plain": [
       "<matplotlib.axes._subplots.AxesSubplot at 0x7f961621f390>"
      ]
     },
     "execution_count": 23,
     "metadata": {},
     "output_type": "execute_result"
    },
    {
     "data": {
      "image/png": "[encoded data removed]",
      "text/plain": [
       "<matplotlib.figure.Figure at 0x7f9616229668>"
      ]
     },
     "metadata": {},
     "output_type": "display_data"
    }
   ],
   "source": [
    "banknifty['high'].plot('kde')"
   ]
  }
 ],
 "metadata": {
  "_change_revision": 125,
  "_is_fork": false,
  "kernelspec": {
   "display_name": "Python 3",
   "language": "python",
   "name": "python3"
  },
  "language_info": {
   "codemirror_mode": {
    "name": "ipython",
    "version": 3
   },
   "file_extension": ".py",
   "mimetype": "text/x-python",
   "name": "python",
   "nbconvert_exporter": "python",
   "pygments_lexer": "ipython3",
   "version": "3.6.0"
  }
 },
 "nbformat": 4,
 "nbformat_minor": 0
}
